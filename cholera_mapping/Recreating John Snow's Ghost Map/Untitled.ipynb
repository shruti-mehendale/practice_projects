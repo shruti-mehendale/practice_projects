{
 "cells": [
  {
   "cell_type": "markdown",
   "metadata": {},
   "source": [
    "## Mapping cholera outbreak in Soho, London in 1854"
   ]
  },
  {
   "cell_type": "code",
   "execution_count": null,
   "metadata": {},
   "outputs": [],
   "source": [
    "### Introduction :\n",
    "This short project aims at reanalyzing the data gathered by receating Dr. Jon Snow during the cholera outbreak in Soho, London in 1854. \n",
    "\n",
    "Dr. Snow was famous British physician and an avocate of anesthesia and hygienic practices in medicine. In early to mid-1800's cholera outbreaks occured regularly in the city of London and \"bad air\" was believed to be the reason for the outbreaks. Dr. John Snow's experience with anesthesia made him suspect that the miasma theory (bad air causing deseas) was not valid in case of cholera. He collected the data on cholera deaths and attacks with resepct to their geographical location and geograhical locations of the public water pumps used in an affected area, namely Soho in London. After plotting the attacks and deaths on a map, he observed that that maximum number of attacks/deaths are happening in the vicinity of one water pump, among the people who have been using water from the pump.He further observed significant decrease in deaths after the pump had been put out of order. This supported his theory that cholera is a waterborn deseas.\n",
    "\n",
    "In this project I have reanalyzed Dr.Snow's data and recreated the map intially made by him. I have:\n",
    "1. Downloaded the dataset from datacamp.com\n",
    "2. used Pandas for data manipulation\n",
    "3. used folium for creating the map\n",
    "4. used seaborn for data visulaization.\n",
    "\n",
    "### Setting up the code environment, loading and exploring data :\n"
   ]
  },
  {
   "cell_type": "code",
   "execution_count": null,
   "metadata": {},
   "outputs": [],
   "source": [
    "# Loading in the pandas module\n",
    "import pandas as pd\n",
    "import seaborn as sns\n",
    "import folium \n",
    "\n",
    "# Reading in the data\n",
    "deaths = pd.read_csv(\"datasets/deaths.csv\")\n",
    "\n",
    "# Print out the shape of the dataset\n",
    "print(\"Shape of dataframe is:\", deaths.shape)\n",
    "\n",
    "# Printing out the first 5 rows\n",
    "deaths.head()\n"
   ]
  }
 ],
 "metadata": {
  "kernelspec": {
   "display_name": "Python 3",
   "language": "python",
   "name": "python3"
  },
  "language_info": {
   "codemirror_mode": {
    "name": "ipython",
    "version": 3
   },
   "file_extension": ".py",
   "mimetype": "text/x-python",
   "name": "python",
   "nbconvert_exporter": "python",
   "pygments_lexer": "ipython3",
   "version": "3.8.3"
  }
 },
 "nbformat": 4,
 "nbformat_minor": 4
}
